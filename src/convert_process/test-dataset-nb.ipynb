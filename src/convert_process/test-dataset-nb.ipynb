{
 "cells": [
  {
   "cell_type": "code",
   "execution_count": 3,
   "id": "9950cc9c-d972-41ad-bb3c-02153e2cca48",
   "metadata": {},
   "outputs": [
    {
     "data": {
      "text/html": [
       "<div>\n",
       "<style scoped>\n",
       "    .dataframe tbody tr th:only-of-type {\n",
       "        vertical-align: middle;\n",
       "    }\n",
       "\n",
       "    .dataframe tbody tr th {\n",
       "        vertical-align: top;\n",
       "    }\n",
       "\n",
       "    .dataframe thead th {\n",
       "        text-align: right;\n",
       "    }\n",
       "</style>\n",
       "<table border=\"1\" class=\"dataframe\">\n",
       "  <thead>\n",
       "    <tr style=\"text-align: right;\">\n",
       "      <th></th>\n",
       "      <th>Disease</th>\n",
       "      <th>Symptom_1</th>\n",
       "      <th>Symptom_2</th>\n",
       "      <th>Symptom_3</th>\n",
       "      <th>Symptom_4</th>\n",
       "      <th>Symptom_5</th>\n",
       "      <th>Symptom_6</th>\n",
       "      <th>Symptom_7</th>\n",
       "      <th>Symptom_8</th>\n",
       "      <th>Symptom_9</th>\n",
       "      <th>Symptom_10</th>\n",
       "      <th>Symptom_11</th>\n",
       "      <th>Symptom_12</th>\n",
       "      <th>Symptom_13</th>\n",
       "      <th>Symptom_14</th>\n",
       "      <th>Symptom_15</th>\n",
       "      <th>Symptom_16</th>\n",
       "      <th>Symptom_17</th>\n",
       "    </tr>\n",
       "  </thead>\n",
       "  <tbody>\n",
       "    <tr>\n",
       "      <th>0</th>\n",
       "      <td>Fungal infection</td>\n",
       "      <td>itching</td>\n",
       "      <td>skin_rash</td>\n",
       "      <td>nodal_skin_eruptions</td>\n",
       "      <td>dischromic _patches</td>\n",
       "      <td>NaN</td>\n",
       "      <td>NaN</td>\n",
       "      <td>NaN</td>\n",
       "      <td>NaN</td>\n",
       "      <td>NaN</td>\n",
       "      <td>NaN</td>\n",
       "      <td>NaN</td>\n",
       "      <td>NaN</td>\n",
       "      <td>NaN</td>\n",
       "      <td>NaN</td>\n",
       "      <td>NaN</td>\n",
       "      <td>NaN</td>\n",
       "      <td>NaN</td>\n",
       "    </tr>\n",
       "    <tr>\n",
       "      <th>1</th>\n",
       "      <td>Fungal infection</td>\n",
       "      <td>skin_rash</td>\n",
       "      <td>nodal_skin_eruptions</td>\n",
       "      <td>dischromic _patches</td>\n",
       "      <td>NaN</td>\n",
       "      <td>NaN</td>\n",
       "      <td>NaN</td>\n",
       "      <td>NaN</td>\n",
       "      <td>NaN</td>\n",
       "      <td>NaN</td>\n",
       "      <td>NaN</td>\n",
       "      <td>NaN</td>\n",
       "      <td>NaN</td>\n",
       "      <td>NaN</td>\n",
       "      <td>NaN</td>\n",
       "      <td>NaN</td>\n",
       "      <td>NaN</td>\n",
       "      <td>NaN</td>\n",
       "    </tr>\n",
       "    <tr>\n",
       "      <th>2</th>\n",
       "      <td>Fungal infection</td>\n",
       "      <td>itching</td>\n",
       "      <td>nodal_skin_eruptions</td>\n",
       "      <td>dischromic _patches</td>\n",
       "      <td>NaN</td>\n",
       "      <td>NaN</td>\n",
       "      <td>NaN</td>\n",
       "      <td>NaN</td>\n",
       "      <td>NaN</td>\n",
       "      <td>NaN</td>\n",
       "      <td>NaN</td>\n",
       "      <td>NaN</td>\n",
       "      <td>NaN</td>\n",
       "      <td>NaN</td>\n",
       "      <td>NaN</td>\n",
       "      <td>NaN</td>\n",
       "      <td>NaN</td>\n",
       "      <td>NaN</td>\n",
       "    </tr>\n",
       "    <tr>\n",
       "      <th>3</th>\n",
       "      <td>Fungal infection</td>\n",
       "      <td>itching</td>\n",
       "      <td>skin_rash</td>\n",
       "      <td>dischromic _patches</td>\n",
       "      <td>NaN</td>\n",
       "      <td>NaN</td>\n",
       "      <td>NaN</td>\n",
       "      <td>NaN</td>\n",
       "      <td>NaN</td>\n",
       "      <td>NaN</td>\n",
       "      <td>NaN</td>\n",
       "      <td>NaN</td>\n",
       "      <td>NaN</td>\n",
       "      <td>NaN</td>\n",
       "      <td>NaN</td>\n",
       "      <td>NaN</td>\n",
       "      <td>NaN</td>\n",
       "      <td>NaN</td>\n",
       "    </tr>\n",
       "    <tr>\n",
       "      <th>4</th>\n",
       "      <td>Fungal infection</td>\n",
       "      <td>itching</td>\n",
       "      <td>skin_rash</td>\n",
       "      <td>nodal_skin_eruptions</td>\n",
       "      <td>NaN</td>\n",
       "      <td>NaN</td>\n",
       "      <td>NaN</td>\n",
       "      <td>NaN</td>\n",
       "      <td>NaN</td>\n",
       "      <td>NaN</td>\n",
       "      <td>NaN</td>\n",
       "      <td>NaN</td>\n",
       "      <td>NaN</td>\n",
       "      <td>NaN</td>\n",
       "      <td>NaN</td>\n",
       "      <td>NaN</td>\n",
       "      <td>NaN</td>\n",
       "      <td>NaN</td>\n",
       "    </tr>\n",
       "  </tbody>\n",
       "</table>\n",
       "</div>"
      ],
      "text/plain": [
       "            Disease   Symptom_1              Symptom_2              Symptom_3  \\\n",
       "0  Fungal infection     itching              skin_rash   nodal_skin_eruptions   \n",
       "1  Fungal infection   skin_rash   nodal_skin_eruptions    dischromic _patches   \n",
       "2  Fungal infection     itching   nodal_skin_eruptions    dischromic _patches   \n",
       "3  Fungal infection     itching              skin_rash    dischromic _patches   \n",
       "4  Fungal infection     itching              skin_rash   nodal_skin_eruptions   \n",
       "\n",
       "              Symptom_4 Symptom_5 Symptom_6 Symptom_7 Symptom_8 Symptom_9  \\\n",
       "0   dischromic _patches       NaN       NaN       NaN       NaN       NaN   \n",
       "1                   NaN       NaN       NaN       NaN       NaN       NaN   \n",
       "2                   NaN       NaN       NaN       NaN       NaN       NaN   \n",
       "3                   NaN       NaN       NaN       NaN       NaN       NaN   \n",
       "4                   NaN       NaN       NaN       NaN       NaN       NaN   \n",
       "\n",
       "  Symptom_10 Symptom_11 Symptom_12 Symptom_13 Symptom_14 Symptom_15  \\\n",
       "0        NaN        NaN        NaN        NaN        NaN        NaN   \n",
       "1        NaN        NaN        NaN        NaN        NaN        NaN   \n",
       "2        NaN        NaN        NaN        NaN        NaN        NaN   \n",
       "3        NaN        NaN        NaN        NaN        NaN        NaN   \n",
       "4        NaN        NaN        NaN        NaN        NaN        NaN   \n",
       "\n",
       "  Symptom_16 Symptom_17  \n",
       "0        NaN        NaN  \n",
       "1        NaN        NaN  \n",
       "2        NaN        NaN  \n",
       "3        NaN        NaN  \n",
       "4        NaN        NaN  "
      ]
     },
     "execution_count": 3,
     "metadata": {},
     "output_type": "execute_result"
    }
   ],
   "source": [
    "import pandas as pd\n",
    "df = pd.read_csv('dataset.csv')\n",
    "df.head()"
   ]
  },
  {
   "cell_type": "code",
   "execution_count": 11,
   "id": "3449a348-bc8f-47e0-9a69-0f5873e23c2b",
   "metadata": {},
   "outputs": [
    {
     "data": {
      "text/plain": [
       "array(['itching', ' skin_rash', ' nodal_skin_eruptions', ..., nan, nan,\n",
       "       nan], dtype=object)"
      ]
     },
     "execution_count": 11,
     "metadata": {},
     "output_type": "execute_result"
    }
   ],
   "source": [
    "data_original = pd.read_csv('dataset.csv')\n",
    "symptoms_columns = [f\"Symptom_{i}\" for i in range(1, 18)]\n",
    "all_symptoms_original = data_original[symptoms_columns].values.flatten()\n",
    "all_symptoms_original"
   ]
  },
  {
   "cell_type": "code",
   "execution_count": 22,
   "id": "7a582e37-d93a-4a12-b85a-0a476d4467c7",
   "metadata": {},
   "outputs": [],
   "source": [
    "unique_symptoms_original = set(all_symptoms_original[~pd.isna(all_symptoms_original) & (all_symptoms_original != \"No_Symptom\")])\n",
    "unique_symptoms_list_original = list(unique_symptoms_original)"
   ]
  },
  {
   "cell_type": "code",
   "execution_count": 24,
   "id": "d2ab49d5-0cae-40a4-9a6b-8ff16b298398",
   "metadata": {},
   "outputs": [
    {
     "data": {
      "text/html": [
       "<div>\n",
       "<style scoped>\n",
       "    .dataframe tbody tr th:only-of-type {\n",
       "        vertical-align: middle;\n",
       "    }\n",
       "\n",
       "    .dataframe tbody tr th {\n",
       "        vertical-align: top;\n",
       "    }\n",
       "\n",
       "    .dataframe thead th {\n",
       "        text-align: right;\n",
       "    }\n",
       "</style>\n",
       "<table border=\"1\" class=\"dataframe\">\n",
       "  <thead>\n",
       "    <tr style=\"text-align: right;\">\n",
       "      <th></th>\n",
       "      <th>abdominal_pain</th>\n",
       "      <th>movement_stiffness</th>\n",
       "      <th>spinning_movements</th>\n",
       "      <th>cramps</th>\n",
       "      <th>irregular_sugar_level</th>\n",
       "      <th>extra_marital_contacts</th>\n",
       "      <th>fatigue</th>\n",
       "      <th>receiving_unsterile_injections</th>\n",
       "      <th>depression</th>\n",
       "      <th>patches_in_throat</th>\n",
       "      <th>...</th>\n",
       "      <th>blister</th>\n",
       "      <th>chest_pain</th>\n",
       "      <th>bruising</th>\n",
       "      <th>mood_swings</th>\n",
       "      <th>unsteadiness</th>\n",
       "      <th>bloody_stool</th>\n",
       "      <th>throat_irritation</th>\n",
       "      <th>drying_and_tingling_lips</th>\n",
       "      <th>increased_appetite</th>\n",
       "      <th>swollen_legs</th>\n",
       "    </tr>\n",
       "  </thead>\n",
       "  <tbody>\n",
       "  </tbody>\n",
       "</table>\n",
       "<p>0 rows × 131 columns</p>\n",
       "</div>"
      ],
      "text/plain": [
       "Empty DataFrame\n",
       "Columns: [ abdominal_pain,  movement_stiffness,  spinning_movements,  cramps,  irregular_sugar_level,  extra_marital_contacts,  fatigue,  receiving_unsterile_injections,  depression,  patches_in_throat,  swollen_blood_vessels,  sweating,  shivering,  chills,  knee_pain,  congestion,  foul_smell_of urine,  irritability,  phlegm,  redness_of_eyes,  fast_heart_rate,  red_spots_over_body,  stomach_bleeding,  sinus_pressure,  obesity,  restlessness,  anxiety,  loss_of_appetite,  acidity,  abnormal_menstruation,  cold_hands_and_feets,  dizziness,  dehydration,  weight_gain,  bladder_discomfort,  polyuria,  hip_joint_pain,  nodal_skin_eruptions,  internal_itching,  dark_urine,  blurred_and_distorted_vision,  burning_micturition,  weakness_in_limbs,  weight_loss,  altered_sensorium,  muscle_pain,  swelling_joints,  loss_of_balance,  lack_of_concentration,  yellow_urine,  red_sore_around_nose,  rusty_sputum,  swelled_lymph_nodes,  puffy_face_and_eyes,  spotting_ urination,  dischromic _patches,  lethargy,  silver_like_dusting,  inflammatory_nails,  nausea,  joint_pain,  pain_behind_the_eyes,  enlarged_thyroid,  cough,  coma,  passage_of_gases,  mild_fever,  pain_in_anal_region,  yellowish_skin,  swelling_of_stomach, itching,  indigestion,  toxic_look_(typhos),  family_history,  mucoid_sputum,  watering_from_eyes,  continuous_sneezing,  malaise,  small_dents_in_nails,  distention_of_abdomen,  fluid_overload,  blackheads,  ulcers_on_tongue,  high_fever,  loss_of_smell,  breathlessness,  excessive_hunger,  irritation_in_anus,  weakness_of_one_body_side,  back_pain,  vomiting,  prominent_veins_on_calf,  swollen_extremeties,  constipation,  pain_during_bowel_movements,  skin_peeling,  muscle_weakness,  brittle_nails,  yellowing_of_eyes,  headache, ...]\n",
       "Index: []\n",
       "\n",
       "[0 rows x 131 columns]"
      ]
     },
     "execution_count": 24,
     "metadata": {},
     "output_type": "execute_result"
    }
   ],
   "source": [
    "binary_data_original = pd.DataFrame(columns=unique_symptoms_list_original)\n",
    "binary_data_original"
   ]
  },
  {
   "cell_type": "code",
   "execution_count": null,
   "id": "a6835869-afa9-496f-b78a-bb647836425d",
   "metadata": {},
   "outputs": [],
   "source": [
    "for index, row in data_original.iterrows():\n",
    "    # Initialize a dictionary to store the binary values\n",
    "    symptom_dict = {symptom: False for symptom in unique_symptoms_list_original}\n",
    "    \n",
    "    # Iterate through each symptom column and mark True if the symptom exists\n",
    "    for i in range(1, 18):\n",
    "        symptom = row[f'Symptom_{i}']\n",
    "        if symptom != \"No_Symptom\" and pd.notna(symptom):\n",
    "            symptom_dict[symptom] = True\n",
    "    \n",
    "    # Use pd.concat to append the new row to the binary data\n",
    "    binary_data_original = pd.concat([binary_data_original, pd.DataFrame([symptom_dict])], ignore_index=True)\n",
    "\n",
    "# Add the target variable (Disease) back to the binary data\n",
    "binary_data_original['Disease'] = data_original['Disease']\n",
    "\n",
    "# Show the first few rows of the new binary dataset\n",
    "binary_data_original.head(1)\n"
   ]
  },
  {
   "cell_type": "code",
   "execution_count": 32,
   "id": "c383bc97-e795-41ff-941e-f5e9b1918c74",
   "metadata": {},
   "outputs": [],
   "source": [
    "binary_data_original.to_csv('transformed_dataset.csv', index=False)"
   ]
  },
  {
   "cell_type": "code",
   "execution_count": 24,
   "id": "1ff8e2a9-709f-4bad-99d8-3122a85c1e7a",
   "metadata": {},
   "outputs": [
    {
     "name": "stdout",
     "output_type": "stream",
     "text": [
      "['abdominal_pain', 'movement_stiffness', 'spinning_movements', 'cramps', 'irregular_sugar_level', 'extra_marital_contacts', 'fatigue', 'receiving_unsterile_injections', 'depression', 'patches_in_throat', 'swollen_blood_vessels', 'sweating', 'shivering', 'chills', 'knee_pain', 'congestion', 'foul_smell_of urine', 'irritability', 'phlegm', 'redness_of_eyes', 'fast_heart_rate', 'red_spots_over_body', 'stomach_bleeding', 'sinus_pressure', 'obesity', 'restlessness', 'anxiety', 'loss_of_appetite', 'acidity', 'abnormal_menstruation', 'cold_hands_and_feets', 'dizziness', 'dehydration', 'weight_gain', 'bladder_discomfort', 'polyuria', 'hip_joint_pain', 'nodal_skin_eruptions', 'internal_itching', 'dark_urine', 'blurred_and_distorted_vision', 'burning_micturition', 'weakness_in_limbs', 'weight_loss', 'altered_sensorium', 'muscle_pain', 'swelling_joints', 'loss_of_balance', 'lack_of_concentration', 'yellow_urine', 'red_sore_around_nose', 'rusty_sputum', 'swelled_lymph_nodes', 'puffy_face_and_eyes', 'spotting_ urination', 'dischromic _patches', 'lethargy', 'silver_like_dusting', 'inflammatory_nails', 'nausea', 'joint_pain', 'pain_behind_the_eyes', 'enlarged_thyroid', 'cough', 'coma', 'passage_of_gases', 'mild_fever', 'pain_in_anal_region', 'yellowish_skin', 'swelling_of_stomach', 'itching', 'indigestion', 'toxic_look_(typhos)', 'family_history', 'mucoid_sputum', 'watering_from_eyes', 'continuous_sneezing', 'malaise', 'small_dents_in_nails', 'distention_of_abdomen', 'fluid_overload', 'blackheads', 'ulcers_on_tongue', 'high_fever', 'loss_of_smell', 'breathlessness', 'excessive_hunger', 'irritation_in_anus', 'weakness_of_one_body_side', 'back_pain', 'vomiting', 'prominent_veins_on_calf', 'swollen_extremeties', 'constipation', 'pain_during_bowel_movements', 'skin_peeling', 'muscle_weakness', 'brittle_nails', 'yellowing_of_eyes', 'headache', 'palpitations', 'belly_pain', 'muscle_wasting', 'painful_walking', 'diarrhoea', 'receiving_blood_transfusion', 'stiff_neck', 'skin_rash', 'visual_disturbances', 'pus_filled_pimples', 'stomach_pain', 'history_of_alcohol_consumption', 'continuous_feel_of_urine', 'neck_pain', 'acute_liver_failure', 'sunken_eyes', 'blood_in_sputum', 'yellow_crust_ooze', 'scurring', 'runny_nose', 'slurred_speech', 'blister', 'chest_pain', 'bruising', 'mood_swings', 'unsteadiness', 'bloody_stool', 'throat_irritation', 'drying_and_tingling_lips', 'increased_appetite', 'swollen_legs', 'Disease']\n"
     ]
    }
   ],
   "source": [
    "import pandas as pd\n",
    "dataFrame_tranformed = pd.read_csv('transformed_dataset.csv',low_memory=False)\n",
    "column_names = dataFrame_tranformed.columns.str.strip().tolist()\n",
    "print(column_names)"
   ]
  },
  {
   "cell_type": "code",
   "execution_count": null,
   "id": "ad8c9d08-2ee5-49ad-b8e4-b3ac8384d5d0",
   "metadata": {},
   "outputs": [],
   "source": [
    "# Drop rows that has no disease name\n",
    "dataFrame_tranformed = dataFrame_tranformed.dropna(subset=['Disease'])"
   ]
  },
  {
   "cell_type": "code",
   "execution_count": 55,
   "id": "ec0d7d4b-1d8b-4065-b470-f2cffb00469a",
   "metadata": {},
   "outputs": [],
   "source": [
    "# Save Cleaned dataset\n",
    "dataFrame_tranformed.to_csv(\"data/transformed_dataset_cleaned.csv\", index=False)"
   ]
  },
  {
   "cell_type": "code",
   "execution_count": 25,
   "id": "2793bb50-bc02-485d-9feb-3e674abb780a",
   "metadata": {},
   "outputs": [],
   "source": [
    "vs_data = pd.read_csv('transformed_dataset_code.csv',low_memory=False)"
   ]
  },
  {
   "cell_type": "code",
   "execution_count": 42,
   "id": "da8aad60-74b7-468a-a3e1-9c6c52d20d85",
   "metadata": {},
   "outputs": [
    {
     "data": {
      "text/plain": [
       "4920"
      ]
     },
     "execution_count": 42,
     "metadata": {},
     "output_type": "execute_result"
    }
   ],
   "source": [
    "print_data = vs_data.columns.tolist()\n",
    "vs_data.isna().sum().sum()"
   ]
  },
  {
   "cell_type": "code",
   "execution_count": null,
   "id": "baef425b-021a-4651-816c-881a388a7d3a",
   "metadata": {},
   "outputs": [],
   "source": []
  }
 ],
 "metadata": {
  "kernelspec": {
   "display_name": "Python 3 (ipykernel)",
   "language": "python",
   "name": "python3"
  },
  "language_info": {
   "codemirror_mode": {
    "name": "ipython",
    "version": 3
   },
   "file_extension": ".py",
   "mimetype": "text/x-python",
   "name": "python",
   "nbconvert_exporter": "python",
   "pygments_lexer": "ipython3",
   "version": "3.12.4"
  }
 },
 "nbformat": 4,
 "nbformat_minor": 5
}
